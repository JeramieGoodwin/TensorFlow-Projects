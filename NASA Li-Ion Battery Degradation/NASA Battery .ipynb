{
 "cells": [
  {
   "cell_type": "code",
   "execution_count": 12,
   "metadata": {},
   "outputs": [],
   "source": [
    "%matplotlib inline"
   ]
  },
  {
   "cell_type": "code",
   "execution_count": 13,
   "metadata": {},
   "outputs": [],
   "source": [
    "import os \n",
    "import pandas as pd\n",
    "import matplotlib.pyplot as plt\n",
    "import tensorflow as tf\n",
    "import keras\n",
    "import numpy as np\n",
    "from six.moves import urllib\n",
    "import zipfile"
   ]
  },
  {
   "cell_type": "code",
   "execution_count": 14,
   "metadata": {},
   "outputs": [],
   "source": [
    "DATA_PATH = os.path.join('./data','battery')\n",
    "DOWNLOAD_ROOT = 'https://ti.arc.nasa.gov/c/'\n",
    "n = [5,9,14,15,16,17]"
   ]
  },
  {
   "cell_type": "code",
   "execution_count": 26,
   "metadata": {},
   "outputs": [],
   "source": [
    "def fetch_battery_data(nasa_url = DOWNLOAD_ROOT, data_path = DATA_PATH):\n",
    "    if not os.path.isdir(data_path):\n",
    "        os.makedirs(data_path)\n",
    "    n_files = []\n",
    "    for f in n:\n",
    "        durl = urllib.parse.urljoin(nasa_url,str(f))\n",
    "        zip_path = os.path.join(data_path,\"battery.zip\")\n",
    "        urllib.request.urlretrieve(url=durl,filename=zip_path)\n",
    "        bat = zipfile.ZipFile(zip_path, 'r')\n",
    "        bat.extractall(path=os.path.join(data_path,'dataset_'+str(f)))\n",
    "        bat.close()\n",
    "        fcnt = len([name for name in os.listdir('./data/battery/dataset_'+str(f)) if name.endswith('.mat')])\n",
    "        n_files.append(fcnt)\n",
    "    print(\"Number of .mat files downloaded: %s\" % np.sum(n_files))"
   ]
  },
  {
   "cell_type": "code",
   "execution_count": null,
   "metadata": {},
   "outputs": [],
   "source": [
    "#fetch_battery_data()"
   ]
  },
  {
   "cell_type": "code",
   "execution_count": 64,
   "metadata": {},
   "outputs": [
    {
     "name": "stdout",
     "output_type": "stream",
     "text": [
      "dict_keys(['__globals__', '__version__', '__header__', 'B0005'])\n"
     ]
    }
   ],
   "source": [
    "from scipy.io import loadmat\n",
    "mat = loadmat(os.path.join(DATA_PATH,'dataset_5/B0005.mat'),struct_as_record=True)\n",
    "print(mat.keys())"
   ]
  },
  {
   "cell_type": "code",
   "execution_count": null,
   "metadata": {},
   "outputs": [],
   "source": []
  }
 ],
 "metadata": {
  "kernelspec": {
   "display_name": "Python 3",
   "language": "python",
   "name": "python3"
  },
  "language_info": {
   "codemirror_mode": {
    "name": "ipython",
    "version": 3
   },
   "file_extension": ".py",
   "mimetype": "text/x-python",
   "name": "python",
   "nbconvert_exporter": "python",
   "pygments_lexer": "ipython3",
   "version": "3.5.5"
  }
 },
 "nbformat": 4,
 "nbformat_minor": 2
}
