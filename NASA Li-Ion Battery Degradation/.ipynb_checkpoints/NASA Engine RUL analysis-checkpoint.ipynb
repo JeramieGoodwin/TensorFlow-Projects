{
 "cells": [
  {
   "cell_type": "code",
   "execution_count": 1,
   "metadata": {},
   "outputs": [],
   "source": [
    "%matplotlib inline"
   ]
  },
  {
   "cell_type": "code",
   "execution_count": 2,
   "metadata": {},
   "outputs": [
    {
     "name": "stderr",
     "output_type": "stream",
     "text": [
      "C:\\Users\\jg568_000\\Anaconda3\\envs\\tensorflow\\lib\\site-packages\\h5py\\__init__.py:36: FutureWarning: Conversion of the second argument of issubdtype from `float` to `np.floating` is deprecated. In future, it will be treated as `np.float64 == np.dtype(float).type`.\n",
      "  from ._conv import register_converters as _register_converters\n",
      "Using TensorFlow backend.\n"
     ]
    }
   ],
   "source": [
    "import os \n",
    "import pandas as pd\n",
    "import matplotlib.pyplot as plt\n",
    "import tensorflow as tf\n",
    "import keras\n",
    "import numpy as np\n",
    "from six.moves import urllib\n",
    "import zipfile\n",
    "import datetime\n",
    "import sys\n",
    "import requests\n",
    "from io import StringIO, BytesIO"
   ]
  },
  {
   "cell_type": "code",
   "execution_count": 31,
   "metadata": {},
   "outputs": [],
   "source": [
    "# sys.path.append('utils/')"
   ]
  },
  {
   "cell_type": "code",
   "execution_count": 4,
   "metadata": {},
   "outputs": [],
   "source": [
    "#### uncomment to fetch .mat data files ###\n",
    "### fetch_battery_data() ###"
   ]
  },
  {
   "cell_type": "code",
   "execution_count": 3,
   "metadata": {},
   "outputs": [],
   "source": [
    "def download_data():\n",
    "    if not os.path.isdir('data'):\n",
    "        os.makedirs('data')\n",
    "    if 'train_FD004.txt' not in os.listdir('data'):\n",
    "        print('Downloading Data...')\n",
    "        # Download the data\n",
    "        r = requests.get(\"https://ti.arc.nasa.gov/c/6/\", stream=True)\n",
    "        z = zipfile.ZipFile(BytesIO(r.content))\n",
    "        z.extractall('data')\n",
    "    else:\n",
    "        print('Using previously downloaded data')"
   ]
  },
  {
   "cell_type": "code",
   "execution_count": 21,
   "metadata": {},
   "outputs": [
    {
     "name": "stdout",
     "output_type": "stream",
     "text": [
      "Downloading Data...\n"
     ]
    }
   ],
   "source": [
    "#download_data()"
   ]
  },
  {
   "cell_type": "code",
   "execution_count": 4,
   "metadata": {},
   "outputs": [],
   "source": [
    "def load_data(data_path):   \n",
    "    operational_settings = ['operational_setting_{}'.format(i + 1) for i in range (3)]\n",
    "    sensor_columns = ['sensor_measurement_{}'.format(i + 1) for i in range(26)]\n",
    "    cols = ['engine_no', 'time_in_cycles'] + operational_settings + sensor_columns\n",
    "    data = pd.read_csv(data_path, sep=' ', header=-1, names=cols)\n",
    "    data = data.drop(cols[-5:], axis=1)\n",
    "    data['index'] = data.index\n",
    "    data.index = data['index']\n",
    "    data['time'] = pd.date_range('1/1/2000', periods=data.shape[0], freq='600s')\n",
    "    print('Loaded data with:\\n{} Recordings\\n{} Engines'.format(\n",
    "        data.shape[0], len(data['engine_no'].unique())))\n",
    "    print('21 Sensor Measurements\\n3 Operational Settings')\n",
    "    return data"
   ]
  },
  {
   "cell_type": "code",
   "execution_count": 5,
   "metadata": {},
   "outputs": [
    {
     "name": "stdout",
     "output_type": "stream",
     "text": [
      "Loaded data with:\n",
      "61249 Recordings\n",
      "249 Engines\n",
      "21 Sensor Measurements\n",
      "3 Operational Settings\n"
     ]
    }
   ],
   "source": [
    "data = load_data('./data/train_FD004.txt')"
   ]
  },
  {
   "cell_type": "code",
   "execution_count": 6,
   "metadata": {},
   "outputs": [
    {
     "data": {
      "text/html": [
       "<div>\n",
       "<style scoped>\n",
       "    .dataframe tbody tr th:only-of-type {\n",
       "        vertical-align: middle;\n",
       "    }\n",
       "\n",
       "    .dataframe tbody tr th {\n",
       "        vertical-align: top;\n",
       "    }\n",
       "\n",
       "    .dataframe thead th {\n",
       "        text-align: right;\n",
       "    }\n",
       "</style>\n",
       "<table border=\"1\" class=\"dataframe\">\n",
       "  <thead>\n",
       "    <tr style=\"text-align: right;\">\n",
       "      <th></th>\n",
       "      <th>engine_no</th>\n",
       "      <th>time_in_cycles</th>\n",
       "      <th>operational_setting_1</th>\n",
       "      <th>operational_setting_2</th>\n",
       "      <th>operational_setting_3</th>\n",
       "      <th>sensor_measurement_1</th>\n",
       "      <th>sensor_measurement_2</th>\n",
       "      <th>sensor_measurement_3</th>\n",
       "      <th>sensor_measurement_4</th>\n",
       "      <th>sensor_measurement_5</th>\n",
       "      <th>...</th>\n",
       "      <th>sensor_measurement_14</th>\n",
       "      <th>sensor_measurement_15</th>\n",
       "      <th>sensor_measurement_16</th>\n",
       "      <th>sensor_measurement_17</th>\n",
       "      <th>sensor_measurement_18</th>\n",
       "      <th>sensor_measurement_19</th>\n",
       "      <th>sensor_measurement_20</th>\n",
       "      <th>sensor_measurement_21</th>\n",
       "      <th>index</th>\n",
       "      <th>time</th>\n",
       "    </tr>\n",
       "    <tr>\n",
       "      <th>index</th>\n",
       "      <th></th>\n",
       "      <th></th>\n",
       "      <th></th>\n",
       "      <th></th>\n",
       "      <th></th>\n",
       "      <th></th>\n",
       "      <th></th>\n",
       "      <th></th>\n",
       "      <th></th>\n",
       "      <th></th>\n",
       "      <th></th>\n",
       "      <th></th>\n",
       "      <th></th>\n",
       "      <th></th>\n",
       "      <th></th>\n",
       "      <th></th>\n",
       "      <th></th>\n",
       "      <th></th>\n",
       "      <th></th>\n",
       "      <th></th>\n",
       "      <th></th>\n",
       "    </tr>\n",
       "  </thead>\n",
       "  <tbody>\n",
       "    <tr>\n",
       "      <th>0</th>\n",
       "      <td>1</td>\n",
       "      <td>1</td>\n",
       "      <td>42.0049</td>\n",
       "      <td>0.8400</td>\n",
       "      <td>100.0</td>\n",
       "      <td>445.00</td>\n",
       "      <td>549.68</td>\n",
       "      <td>1343.43</td>\n",
       "      <td>1112.93</td>\n",
       "      <td>3.91</td>\n",
       "      <td>...</td>\n",
       "      <td>8074.83</td>\n",
       "      <td>9.3335</td>\n",
       "      <td>0.02</td>\n",
       "      <td>330</td>\n",
       "      <td>2212</td>\n",
       "      <td>100.00</td>\n",
       "      <td>10.62</td>\n",
       "      <td>6.3670</td>\n",
       "      <td>0</td>\n",
       "      <td>2000-01-01 00:00:00</td>\n",
       "    </tr>\n",
       "    <tr>\n",
       "      <th>1</th>\n",
       "      <td>1</td>\n",
       "      <td>2</td>\n",
       "      <td>20.0020</td>\n",
       "      <td>0.7002</td>\n",
       "      <td>100.0</td>\n",
       "      <td>491.19</td>\n",
       "      <td>606.07</td>\n",
       "      <td>1477.61</td>\n",
       "      <td>1237.50</td>\n",
       "      <td>9.35</td>\n",
       "      <td>...</td>\n",
       "      <td>8046.13</td>\n",
       "      <td>9.1913</td>\n",
       "      <td>0.02</td>\n",
       "      <td>361</td>\n",
       "      <td>2324</td>\n",
       "      <td>100.00</td>\n",
       "      <td>24.37</td>\n",
       "      <td>14.6552</td>\n",
       "      <td>1</td>\n",
       "      <td>2000-01-01 00:10:00</td>\n",
       "    </tr>\n",
       "    <tr>\n",
       "      <th>2</th>\n",
       "      <td>1</td>\n",
       "      <td>3</td>\n",
       "      <td>42.0038</td>\n",
       "      <td>0.8409</td>\n",
       "      <td>100.0</td>\n",
       "      <td>445.00</td>\n",
       "      <td>548.95</td>\n",
       "      <td>1343.12</td>\n",
       "      <td>1117.05</td>\n",
       "      <td>3.91</td>\n",
       "      <td>...</td>\n",
       "      <td>8066.62</td>\n",
       "      <td>9.4007</td>\n",
       "      <td>0.02</td>\n",
       "      <td>329</td>\n",
       "      <td>2212</td>\n",
       "      <td>100.00</td>\n",
       "      <td>10.48</td>\n",
       "      <td>6.4213</td>\n",
       "      <td>2</td>\n",
       "      <td>2000-01-01 00:20:00</td>\n",
       "    </tr>\n",
       "    <tr>\n",
       "      <th>3</th>\n",
       "      <td>1</td>\n",
       "      <td>4</td>\n",
       "      <td>42.0000</td>\n",
       "      <td>0.8400</td>\n",
       "      <td>100.0</td>\n",
       "      <td>445.00</td>\n",
       "      <td>548.70</td>\n",
       "      <td>1341.24</td>\n",
       "      <td>1118.03</td>\n",
       "      <td>3.91</td>\n",
       "      <td>...</td>\n",
       "      <td>8076.05</td>\n",
       "      <td>9.3369</td>\n",
       "      <td>0.02</td>\n",
       "      <td>328</td>\n",
       "      <td>2212</td>\n",
       "      <td>100.00</td>\n",
       "      <td>10.54</td>\n",
       "      <td>6.4176</td>\n",
       "      <td>3</td>\n",
       "      <td>2000-01-01 00:30:00</td>\n",
       "    </tr>\n",
       "    <tr>\n",
       "      <th>4</th>\n",
       "      <td>1</td>\n",
       "      <td>5</td>\n",
       "      <td>25.0063</td>\n",
       "      <td>0.6207</td>\n",
       "      <td>60.0</td>\n",
       "      <td>462.54</td>\n",
       "      <td>536.10</td>\n",
       "      <td>1255.23</td>\n",
       "      <td>1033.59</td>\n",
       "      <td>7.05</td>\n",
       "      <td>...</td>\n",
       "      <td>7865.80</td>\n",
       "      <td>10.8366</td>\n",
       "      <td>0.02</td>\n",
       "      <td>305</td>\n",
       "      <td>1915</td>\n",
       "      <td>84.93</td>\n",
       "      <td>14.03</td>\n",
       "      <td>8.6754</td>\n",
       "      <td>4</td>\n",
       "      <td>2000-01-01 00:40:00</td>\n",
       "    </tr>\n",
       "  </tbody>\n",
       "</table>\n",
       "<p>5 rows × 28 columns</p>\n",
       "</div>"
      ],
      "text/plain": [
       "       engine_no  time_in_cycles  operational_setting_1  \\\n",
       "index                                                     \n",
       "0              1               1                42.0049   \n",
       "1              1               2                20.0020   \n",
       "2              1               3                42.0038   \n",
       "3              1               4                42.0000   \n",
       "4              1               5                25.0063   \n",
       "\n",
       "       operational_setting_2  operational_setting_3  sensor_measurement_1  \\\n",
       "index                                                                       \n",
       "0                     0.8400                  100.0                445.00   \n",
       "1                     0.7002                  100.0                491.19   \n",
       "2                     0.8409                  100.0                445.00   \n",
       "3                     0.8400                  100.0                445.00   \n",
       "4                     0.6207                   60.0                462.54   \n",
       "\n",
       "       sensor_measurement_2  sensor_measurement_3  sensor_measurement_4  \\\n",
       "index                                                                     \n",
       "0                    549.68               1343.43               1112.93   \n",
       "1                    606.07               1477.61               1237.50   \n",
       "2                    548.95               1343.12               1117.05   \n",
       "3                    548.70               1341.24               1118.03   \n",
       "4                    536.10               1255.23               1033.59   \n",
       "\n",
       "       sensor_measurement_5         ...          sensor_measurement_14  \\\n",
       "index                               ...                                  \n",
       "0                      3.91         ...                        8074.83   \n",
       "1                      9.35         ...                        8046.13   \n",
       "2                      3.91         ...                        8066.62   \n",
       "3                      3.91         ...                        8076.05   \n",
       "4                      7.05         ...                        7865.80   \n",
       "\n",
       "       sensor_measurement_15  sensor_measurement_16  sensor_measurement_17  \\\n",
       "index                                                                        \n",
       "0                     9.3335                   0.02                    330   \n",
       "1                     9.1913                   0.02                    361   \n",
       "2                     9.4007                   0.02                    329   \n",
       "3                     9.3369                   0.02                    328   \n",
       "4                    10.8366                   0.02                    305   \n",
       "\n",
       "       sensor_measurement_18  sensor_measurement_19  sensor_measurement_20  \\\n",
       "index                                                                        \n",
       "0                       2212                 100.00                  10.62   \n",
       "1                       2324                 100.00                  24.37   \n",
       "2                       2212                 100.00                  10.48   \n",
       "3                       2212                 100.00                  10.54   \n",
       "4                       1915                  84.93                  14.03   \n",
       "\n",
       "       sensor_measurement_21  index                time  \n",
       "index                                                    \n",
       "0                     6.3670      0 2000-01-01 00:00:00  \n",
       "1                    14.6552      1 2000-01-01 00:10:00  \n",
       "2                     6.4213      2 2000-01-01 00:20:00  \n",
       "3                     6.4176      3 2000-01-01 00:30:00  \n",
       "4                     8.6754      4 2000-01-01 00:40:00  \n",
       "\n",
       "[5 rows x 28 columns]"
      ]
     },
     "execution_count": 6,
     "metadata": {},
     "output_type": "execute_result"
    }
   ],
   "source": [
    "data.head()"
   ]
  },
  {
   "cell_type": "code",
   "execution_count": 7,
   "metadata": {},
   "outputs": [
    {
     "name": "stdout",
     "output_type": "stream",
     "text": [
      "<class 'pandas.core.frame.DataFrame'>\n",
      "Int64Index: 61249 entries, 0 to 61248\n",
      "Data columns (total 28 columns):\n",
      "engine_no                61249 non-null int64\n",
      "time_in_cycles           61249 non-null int64\n",
      "operational_setting_1    61249 non-null float64\n",
      "operational_setting_2    61249 non-null float64\n",
      "operational_setting_3    61249 non-null float64\n",
      "sensor_measurement_1     61249 non-null float64\n",
      "sensor_measurement_2     61249 non-null float64\n",
      "sensor_measurement_3     61249 non-null float64\n",
      "sensor_measurement_4     61249 non-null float64\n",
      "sensor_measurement_5     61249 non-null float64\n",
      "sensor_measurement_6     61249 non-null float64\n",
      "sensor_measurement_7     61249 non-null float64\n",
      "sensor_measurement_8     61249 non-null float64\n",
      "sensor_measurement_9     61249 non-null float64\n",
      "sensor_measurement_10    61249 non-null float64\n",
      "sensor_measurement_11    61249 non-null float64\n",
      "sensor_measurement_12    61249 non-null float64\n",
      "sensor_measurement_13    61249 non-null float64\n",
      "sensor_measurement_14    61249 non-null float64\n",
      "sensor_measurement_15    61249 non-null float64\n",
      "sensor_measurement_16    61249 non-null float64\n",
      "sensor_measurement_17    61249 non-null int64\n",
      "sensor_measurement_18    61249 non-null int64\n",
      "sensor_measurement_19    61249 non-null float64\n",
      "sensor_measurement_20    61249 non-null float64\n",
      "sensor_measurement_21    61249 non-null float64\n",
      "index                    61249 non-null int64\n",
      "time                     61249 non-null datetime64[ns]\n",
      "dtypes: datetime64[ns](1), float64(22), int64(5)\n",
      "memory usage: 13.6 MB\n"
     ]
    }
   ],
   "source": [
    "data.info()"
   ]
  },
  {
   "cell_type": "code",
   "execution_count": 8,
   "metadata": {},
   "outputs": [
    {
     "name": "stdout",
     "output_type": "stream",
     "text": [
      "['operational_setting_1', 'operational_setting_2', 'operational_setting_3']\n"
     ]
    }
   ],
   "source": [
    "ops_cols = [col for col in data.columns if 'operational' in col]\n",
    "print(ops_cols)"
   ]
  },
  {
   "cell_type": "code",
   "execution_count": 9,
   "metadata": {},
   "outputs": [],
   "source": [
    "ops_frame = data[ops_cols]"
   ]
  },
  {
   "cell_type": "code",
   "execution_count": 10,
   "metadata": {},
   "outputs": [],
   "source": [
    "import seaborn as sns"
   ]
  },
  {
   "cell_type": "code",
   "execution_count": 11,
   "metadata": {},
   "outputs": [
    {
     "data": {
      "text/plain": [
       "<seaborn.axisgrid.PairGrid at 0x28232898048>"
      ]
     },
     "execution_count": 11,
     "metadata": {},
     "output_type": "execute_result"
    },
    {
     "data": {
      "image/png": "[encoded data removed]",
      "text/plain": [
       "<Figure size 540x540 with 12 Axes>"
      ]
     },
     "metadata": {},
     "output_type": "display_data"
    }
   ],
   "source": [
    "sns.pairplot(data=ops_frame)"
   ]
  },
  {
   "cell_type": "code",
   "execution_count": 22,
   "metadata": {},
   "outputs": [
    {
     "name": "stderr",
     "output_type": "stream",
     "text": [
      "C:\\Users\\jg568_000\\Anaconda3\\envs\\tensorflow\\lib\\site-packages\\ipykernel_launcher.py:6: SettingWithCopyWarning: \n",
      "A value is trying to be set on a copy of a slice from a DataFrame.\n",
      "Try using .loc[row_indexer,col_indexer] = value instead\n",
      "\n",
      "See the caveats in the documentation: http://pandas.pydata.org/pandas-docs/stable/indexing.html#indexing-view-versus-copy\n",
      "  \n"
     ]
    }
   ],
   "source": [
    "from sklearn.cluster import KMeans\n",
    "n_clusters = 50\n",
    "kmeans = KMeans(n_clusters=n_clusters)\n",
    "kmeans.fit(ops_frame)\n",
    "\n",
    "ops_frame['settings_clusters'] = kmeans.predict(ops_frame)"
   ]
  },
  {
   "cell_type": "code",
   "execution_count": 27,
   "metadata": {},
   "outputs": [],
   "source": [
    "engine1 = data[data['engine_no'] == 1]\n",
    "engine2 = data[data['engine_no'] == 2]"
   ]
  },
  {
   "cell_type": "code",
   "execution_count": 30,
   "metadata": {},
   "outputs": [
    {
     "name": "stdout",
     "output_type": "stream",
     "text": [
      "Number of cycles recorded for engine 1: 321\n",
      "Number of cycles recorded for engine 2: 299\n"
     ]
    }
   ],
   "source": [
    "print(\"Number of cycles recorded for engine 1: {0}\\nNumber of cycles recorded for engine 2: {1}\".format(engine1.time_in_cycles.count(),engine2.time_in_cycles.count()))"
   ]
  },
  {
   "cell_type": "code",
   "execution_count": 35,
   "metadata": {},
   "outputs": [
    {
     "name": "stdout",
     "output_type": "stream",
     "text": [
      "Number of recorded cycles for engine 1: 321\n",
      "Number of recorded cycles for engine 2: 299\n",
      "Number of recorded cycles for engine 3: 307\n",
      "Number of recorded cycles for engine 4: 274\n",
      "Number of recorded cycles for engine 5: 193\n",
      "Number of recorded cycles for engine 6: 331\n",
      "Number of recorded cycles for engine 7: 221\n",
      "Number of recorded cycles for engine 8: 230\n",
      "Number of recorded cycles for engine 9: 334\n",
      "Number of recorded cycles for engine 10: 354\n",
      "Number of recorded cycles for engine 11: 301\n",
      "Number of recorded cycles for engine 12: 272\n",
      "Number of recorded cycles for engine 13: 256\n",
      "Number of recorded cycles for engine 14: 253\n",
      "Number of recorded cycles for engine 15: 224\n",
      "Number of recorded cycles for engine 16: 184\n",
      "Number of recorded cycles for engine 17: 151\n",
      "Number of recorded cycles for engine 18: 343\n",
      "Number of recorded cycles for engine 19: 210\n",
      "Number of recorded cycles for engine 20: 245\n",
      "Number of recorded cycles for engine 21: 227\n",
      "Number of recorded cycles for engine 22: 211\n",
      "Number of recorded cycles for engine 23: 280\n",
      "Number of recorded cycles for engine 24: 186\n",
      "Number of recorded cycles for engine 25: 150\n",
      "Number of recorded cycles for engine 26: 297\n",
      "Number of recorded cycles for engine 27: 163\n",
      "Number of recorded cycles for engine 28: 202\n",
      "Number of recorded cycles for engine 29: 247\n",
      "Number of recorded cycles for engine 30: 297\n",
      "Number of recorded cycles for engine 31: 263\n",
      "Number of recorded cycles for engine 32: 219\n",
      "Number of recorded cycles for engine 33: 201\n",
      "Number of recorded cycles for engine 34: 276\n",
      "Number of recorded cycles for engine 35: 221\n",
      "Number of recorded cycles for engine 36: 143\n",
      "Number of recorded cycles for engine 37: 388\n",
      "Number of recorded cycles for engine 38: 177\n",
      "Number of recorded cycles for engine 39: 202\n",
      "Number of recorded cycles for engine 40: 206\n",
      "Number of recorded cycles for engine 41: 279\n",
      "Number of recorded cycles for engine 42: 280\n",
      "Number of recorded cycles for engine 43: 223\n",
      "Number of recorded cycles for engine 44: 203\n",
      "Number of recorded cycles for engine 45: 177\n",
      "Number of recorded cycles for engine 46: 321\n",
      "Number of recorded cycles for engine 47: 375\n",
      "Number of recorded cycles for engine 48: 322\n",
      "Number of recorded cycles for engine 49: 446\n",
      "Number of recorded cycles for engine 50: 172\n",
      "Number of recorded cycles for engine 51: 285\n",
      "Number of recorded cycles for engine 52: 357\n",
      "Number of recorded cycles for engine 53: 304\n",
      "Number of recorded cycles for engine 54: 197\n",
      "Number of recorded cycles for engine 55: 344\n",
      "Number of recorded cycles for engine 56: 347\n",
      "Number of recorded cycles for engine 57: 193\n",
      "Number of recorded cycles for engine 58: 281\n",
      "Number of recorded cycles for engine 59: 177\n",
      "Number of recorded cycles for engine 60: 218\n",
      "Number of recorded cycles for engine 61: 244\n",
      "Number of recorded cycles for engine 62: 297\n",
      "Number of recorded cycles for engine 63: 170\n",
      "Number of recorded cycles for engine 64: 184\n",
      "Number of recorded cycles for engine 65: 351\n",
      "Number of recorded cycles for engine 66: 175\n",
      "Number of recorded cycles for engine 67: 167\n",
      "Number of recorded cycles for engine 68: 163\n",
      "Number of recorded cycles for engine 69: 226\n",
      "Number of recorded cycles for engine 70: 185\n",
      "Number of recorded cycles for engine 71: 312\n",
      "Number of recorded cycles for engine 72: 308\n",
      "Number of recorded cycles for engine 73: 181\n",
      "Number of recorded cycles for engine 74: 244\n",
      "Number of recorded cycles for engine 75: 230\n",
      "Number of recorded cycles for engine 76: 152\n",
      "Number of recorded cycles for engine 77: 148\n",
      "Number of recorded cycles for engine 78: 250\n",
      "Number of recorded cycles for engine 79: 218\n",
      "Number of recorded cycles for engine 80: 305\n",
      "Number of recorded cycles for engine 81: 187\n",
      "Number of recorded cycles for engine 82: 197\n",
      "Number of recorded cycles for engine 83: 184\n",
      "Number of recorded cycles for engine 84: 159\n",
      "Number of recorded cycles for engine 85: 277\n",
      "Number of recorded cycles for engine 86: 232\n",
      "Number of recorded cycles for engine 87: 259\n",
      "Number of recorded cycles for engine 88: 388\n",
      "Number of recorded cycles for engine 89: 168\n",
      "Number of recorded cycles for engine 90: 212\n",
      "Number of recorded cycles for engine 91: 354\n",
      "Number of recorded cycles for engine 92: 191\n",
      "Number of recorded cycles for engine 93: 196\n",
      "Number of recorded cycles for engine 94: 249\n",
      "Number of recorded cycles for engine 95: 239\n",
      "Number of recorded cycles for engine 96: 270\n",
      "Number of recorded cycles for engine 97: 262\n",
      "Number of recorded cycles for engine 98: 245\n",
      "Number of recorded cycles for engine 99: 167\n",
      "Number of recorded cycles for engine 100: 261\n",
      "Number of recorded cycles for engine 101: 260\n",
      "Number of recorded cycles for engine 102: 194\n",
      "Number of recorded cycles for engine 103: 224\n",
      "Number of recorded cycles for engine 104: 203\n",
      "Number of recorded cycles for engine 105: 170\n",
      "Number of recorded cycles for engine 106: 266\n",
      "Number of recorded cycles for engine 107: 183\n",
      "Number of recorded cycles for engine 108: 304\n",
      "Number of recorded cycles for engine 109: 325\n",
      "Number of recorded cycles for engine 110: 186\n",
      "Number of recorded cycles for engine 111: 297\n",
      "Number of recorded cycles for engine 112: 340\n",
      "Number of recorded cycles for engine 113: 184\n",
      "Number of recorded cycles for engine 114: 161\n",
      "Number of recorded cycles for engine 115: 131\n",
      "Number of recorded cycles for engine 116: 344\n",
      "Number of recorded cycles for engine 117: 342\n",
      "Number of recorded cycles for engine 118: 543\n",
      "Number of recorded cycles for engine 119: 187\n",
      "Number of recorded cycles for engine 120: 177\n",
      "Number of recorded cycles for engine 121: 194\n",
      "Number of recorded cycles for engine 122: 174\n",
      "Number of recorded cycles for engine 123: 226\n",
      "Number of recorded cycles for engine 124: 170\n",
      "Number of recorded cycles for engine 125: 239\n",
      "Number of recorded cycles for engine 126: 302\n",
      "Number of recorded cycles for engine 127: 235\n",
      "Number of recorded cycles for engine 128: 248\n",
      "Number of recorded cycles for engine 129: 190\n",
      "Number of recorded cycles for engine 130: 166\n",
      "Number of recorded cycles for engine 131: 370\n",
      "Number of recorded cycles for engine 132: 254\n",
      "Number of recorded cycles for engine 133: 489\n",
      "Number of recorded cycles for engine 134: 247\n",
      "Number of recorded cycles for engine 135: 149\n",
      "Number of recorded cycles for engine 136: 205\n",
      "Number of recorded cycles for engine 137: 225\n",
      "Number of recorded cycles for engine 138: 178\n",
      "Number of recorded cycles for engine 139: 251\n",
      "Number of recorded cycles for engine 140: 298\n",
      "Number of recorded cycles for engine 141: 199\n",
      "Number of recorded cycles for engine 142: 209\n",
      "Number of recorded cycles for engine 143: 184\n",
      "Number of recorded cycles for engine 144: 297\n",
      "Number of recorded cycles for engine 145: 228\n",
      "Number of recorded cycles for engine 146: 303\n",
      "Number of recorded cycles for engine 147: 234\n",
      "Number of recorded cycles for engine 148: 193\n",
      "Number of recorded cycles for engine 149: 261\n",
      "Number of recorded cycles for engine 150: 149\n",
      "Number of recorded cycles for engine 151: 351\n",
      "Number of recorded cycles for engine 152: 262\n",
      "Number of recorded cycles for engine 153: 168\n",
      "Number of recorded cycles for engine 154: 203\n",
      "Number of recorded cycles for engine 155: 295\n",
      "Number of recorded cycles for engine 156: 139\n",
      "Number of recorded cycles for engine 157: 298\n",
      "Number of recorded cycles for engine 158: 399\n",
      "Number of recorded cycles for engine 159: 288\n",
      "Number of recorded cycles for engine 160: 187\n",
      "Number of recorded cycles for engine 161: 303\n",
      "Number of recorded cycles for engine 162: 313\n",
      "Number of recorded cycles for engine 163: 285\n",
      "Number of recorded cycles for engine 164: 380\n",
      "Number of recorded cycles for engine 165: 255\n",
      "Number of recorded cycles for engine 166: 269\n",
      "Number of recorded cycles for engine 167: 263\n",
      "Number of recorded cycles for engine 168: 196\n",
      "Number of recorded cycles for engine 169: 227\n",
      "Number of recorded cycles for engine 170: 161\n",
      "Number of recorded cycles for engine 171: 399\n",
      "Number of recorded cycles for engine 172: 273\n",
      "Number of recorded cycles for engine 173: 457\n",
      "Number of recorded cycles for engine 174: 370\n",
      "Number of recorded cycles for engine 175: 156\n",
      "Number of recorded cycles for engine 176: 180\n",
      "Number of recorded cycles for engine 177: 242\n",
      "Number of recorded cycles for engine 178: 170\n",
      "Number of recorded cycles for engine 179: 435\n",
      "Number of recorded cycles for engine 180: 344\n",
      "Number of recorded cycles for engine 181: 134\n",
      "Number of recorded cycles for engine 182: 205\n",
      "Number of recorded cycles for engine 183: 190\n",
      "Number of recorded cycles for engine 184: 379\n",
      "Number of recorded cycles for engine 185: 259\n",
      "Number of recorded cycles for engine 186: 163\n"
     ]
    },
    {
     "name": "stdout",
     "output_type": "stream",
     "text": [
      "Number of recorded cycles for engine 187: 273\n",
      "Number of recorded cycles for engine 188: 254\n",
      "Number of recorded cycles for engine 189: 239\n",
      "Number of recorded cycles for engine 190: 381\n",
      "Number of recorded cycles for engine 191: 297\n",
      "Number of recorded cycles for engine 192: 190\n",
      "Number of recorded cycles for engine 193: 197\n",
      "Number of recorded cycles for engine 194: 145\n",
      "Number of recorded cycles for engine 195: 159\n",
      "Number of recorded cycles for engine 196: 174\n",
      "Number of recorded cycles for engine 197: 170\n",
      "Number of recorded cycles for engine 198: 164\n",
      "Number of recorded cycles for engine 199: 176\n",
      "Number of recorded cycles for engine 200: 225\n",
      "Number of recorded cycles for engine 201: 378\n",
      "Number of recorded cycles for engine 202: 241\n",
      "Number of recorded cycles for engine 203: 324\n",
      "Number of recorded cycles for engine 204: 211\n",
      "Number of recorded cycles for engine 205: 242\n",
      "Number of recorded cycles for engine 206: 263\n",
      "Number of recorded cycles for engine 207: 379\n",
      "Number of recorded cycles for engine 208: 290\n",
      "Number of recorded cycles for engine 209: 161\n",
      "Number of recorded cycles for engine 210: 167\n",
      "Number of recorded cycles for engine 211: 146\n",
      "Number of recorded cycles for engine 212: 229\n",
      "Number of recorded cycles for engine 213: 197\n",
      "Number of recorded cycles for engine 214: 128\n",
      "Number of recorded cycles for engine 215: 361\n",
      "Number of recorded cycles for engine 216: 244\n",
      "Number of recorded cycles for engine 217: 200\n",
      "Number of recorded cycles for engine 218: 236\n",
      "Number of recorded cycles for engine 219: 190\n",
      "Number of recorded cycles for engine 220: 202\n",
      "Number of recorded cycles for engine 221: 274\n",
      "Number of recorded cycles for engine 222: 202\n",
      "Number of recorded cycles for engine 223: 247\n",
      "Number of recorded cycles for engine 224: 268\n",
      "Number of recorded cycles for engine 225: 418\n",
      "Number of recorded cycles for engine 226: 194\n",
      "Number of recorded cycles for engine 227: 287\n",
      "Number of recorded cycles for engine 228: 279\n",
      "Number of recorded cycles for engine 229: 280\n",
      "Number of recorded cycles for engine 230: 250\n",
      "Number of recorded cycles for engine 231: 194\n",
      "Number of recorded cycles for engine 232: 273\n",
      "Number of recorded cycles for engine 233: 289\n",
      "Number of recorded cycles for engine 234: 207\n",
      "Number of recorded cycles for engine 235: 199\n",
      "Number of recorded cycles for engine 236: 225\n",
      "Number of recorded cycles for engine 237: 212\n",
      "Number of recorded cycles for engine 238: 187\n",
      "Number of recorded cycles for engine 239: 365\n",
      "Number of recorded cycles for engine 240: 149\n",
      "Number of recorded cycles for engine 241: 332\n",
      "Number of recorded cycles for engine 242: 222\n",
      "Number of recorded cycles for engine 243: 327\n",
      "Number of recorded cycles for engine 244: 267\n",
      "Number of recorded cycles for engine 245: 205\n",
      "Number of recorded cycles for engine 246: 161\n",
      "Number of recorded cycles for engine 247: 211\n",
      "Number of recorded cycles for engine 248: 184\n",
      "Number of recorded cycles for engine 249: 255\n"
     ]
    }
   ],
   "source": [
    "cycles = []\n",
    "for i in range(249):\n",
    "    engine = data[data['engine_no'] == i+1]\n",
    "    cycles.append(engine.time_in_cycles.count())\n",
    "    print(\"Number of recorded cycles for engine {0}: {1}\".format(int(i+1), engine.time_in_cycles.count()))"
   ]
  },
  {
   "cell_type": "code",
   "execution_count": 36,
   "metadata": {},
   "outputs": [
    {
     "name": "stderr",
     "output_type": "stream",
     "text": [
      "C:\\Users\\jg568_000\\Anaconda3\\envs\\tensorflow\\lib\\site-packages\\matplotlib\\axes\\_axes.py:6462: UserWarning: The 'normed' kwarg is deprecated, and has been replaced by the 'density' kwarg.\n",
      "  warnings.warn(\"The 'normed' kwarg is deprecated, and has been \"\n"
     ]
    },
    {
     "data": {
      "text/plain": [
       "<matplotlib.axes._subplots.AxesSubplot at 0x2823a716240>"
      ]
     },
     "execution_count": 36,
     "metadata": {},
     "output_type": "execute_result"
    },
    {
     "data": {
      "image/png": "[encoded data removed]",
      "text/plain": [
       "<Figure size 432x288 with 1 Axes>"
      ]
     },
     "metadata": {},
     "output_type": "display_data"
    }
   ],
   "source": [
    "sns.distplot(cycles)"
   ]
  },
  {
   "cell_type": "code",
   "execution_count": null,
   "metadata": {},
   "outputs": [],
   "source": []
  }
 ],
 "metadata": {
  "kernelspec": {
   "display_name": "Python 3",
   "language": "python",
   "name": "python3"
  },
  "language_info": {
   "codemirror_mode": {
    "name": "ipython",
    "version": 3
   },
   "file_extension": ".py",
   "mimetype": "text/x-python",
   "name": "python",
   "nbconvert_exporter": "python",
   "pygments_lexer": "ipython3",
   "version": "3.5.5"
  }
 },
 "nbformat": 4,
 "nbformat_minor": 2
}
