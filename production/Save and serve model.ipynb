{
 "cells": [
  {
   "cell_type": "code",
   "execution_count": 2,
   "metadata": {},
   "outputs": [],
   "source": [
    "import os\n",
    "import sys\n",
    "import shutil\n",
    "\n",
    "import tensorflow as tf\n",
    "from tensorflow.python.saved_model import builder\n",
    "from tensorflow.python.saved_model import signature_constants\n",
    "from tensorflow.python.saved_model import signature_def_utils\n",
    "from tensorflow.python.saved_model import tag_constants\n",
    "from tensorflow.python.saved_model import utils\n",
    "from tensorflow.python.util import compat"
   ]
  },
  {
   "cell_type": "code",
   "execution_count": 12,
   "metadata": {},
   "outputs": [],
   "source": [
    "# Remove flag names\n",
    "from absl import flags\n",
    "\n",
    "for name in list(flags.FLAGS):\n",
    "    delattr(flags.FLAGS, name)"
   ]
  },
  {
   "cell_type": "code",
   "execution_count": 4,
   "metadata": {},
   "outputs": [],
   "source": [
    "# simulate data\n",
    "\n",
    "import numpy as np\n",
    "np.random.seed(42)\n",
    "\n",
    "# simulate dataset\n",
    "age_ = np.random.normal(loc=25, scale=10, size=[1000, 1])\n",
    "years_ = np.random.gamma(shape=9.0, scale=2.0, size=[1000, 1])\n",
    "income_ = np.random.gamma(shape=3.0, scale=2.0, size=[1000, 1])\n",
    "trad_ = np.random.weibull(a=2, size=[1000, 1])\n",
    "num_friends = np.random.poisson(lam=3.5, size=[1000, 1])\n",
    "other_ = np.random.normal(loc=5, scale=2, size=[1000, 1])\n",
    "\n",
    "X = np.hstack((age_, years_, income_, \n",
    "     trad_, num_friends, other_))\n",
    "y = np.random.normal(loc=500, scale=35, size=[1000, 1])"
   ]
  },
  {
   "cell_type": "code",
   "execution_count": 13,
   "metadata": {},
   "outputs": [],
   "source": [
    "# Command line arguments\n",
    "tf.app.flags.DEFINE_integer('training_iteration', 20,\n",
    "                           'number of training iterations.')\n",
    "\n",
    "tf.app.flags.DEFINE_integer('model_version', 1, 'version number of the model.')\n",
    "\n",
    "tf.app.flags.DEFINE_string('checkpoint_dir', \n",
    "                           './checkpoints', \n",
    "                           'Directory for storing training checkpints.')\n",
    "\n",
    "tf.app.flags.DEFINE_string('output_dir', './reg_export',\n",
    "                         'Directory for storing exported model.')\n",
    "\n",
    "FLAGS = tf.app.flags.FLAGS"
   ]
  },
  {
   "cell_type": "code",
   "execution_count": 7,
   "metadata": {},
   "outputs": [
    {
     "data": {
      "text/plain": [
       "['C:\\\\Users\\\\jg568_000\\\\Anaconda3\\\\envs\\\\tensorflow\\\\lib\\\\site-packages\\\\ipykernel_launcher.py',\n",
       " '-f',\n",
       " 'C:\\\\Users\\\\jg568_000\\\\AppData\\\\Roaming\\\\jupyter\\\\runtime\\\\kernel-5d1993f4-5183-4937-b8a1-dccce5edc329.json']"
      ]
     },
     "execution_count": 7,
     "metadata": {},
     "output_type": "execute_result"
    }
   ],
   "source": [
    "sys.argv"
   ]
  },
  {
   "cell_type": "code",
   "execution_count": 10,
   "metadata": {},
   "outputs": [],
   "source": [
    "def build_model(feature_names = []):\n",
    "    \n",
    "    for n in feature_names:\n",
    "        if not isinstance(n, str):\n",
    "            print('Feature names must be strings')\n",
    "    \n",
    "    a = tf.feature_column.numeric_column(feature_names[0])\n",
    "    b = tf.feature_column.numeric_column(feature_names[1])\n",
    "    c = tf.feature_column.numeric_column(feature_names[2])\n",
    "    d = tf.feature_column.numeric_column(feature_names[3])\n",
    "    e = tf.feature_column.numeric_column(feature_names[4])\n",
    "    f = tf.feature_column.numeric_column(feature_names[5])\n",
    "\n",
    "    feature_columns = [a, b, c, d, e, f]\n",
    "    \n",
    "    model = tf.estimator.LinearRegressor(feature_columns=feature_columns,\n",
    "                                     optimizer=tf.train.AdamOptimizer(learning_rate=0.01))\n",
    "    return model"
   ]
  },
  {
   "cell_type": "code",
   "execution_count": null,
   "metadata": {},
   "outputs": [],
   "source": [
    "def main(_):\n",
    "    print('Training...')\n",
    "    \n",
    "    # Reset graph session to default\n",
    "    with tf.Graph().as_default():\n",
    "        serialized_tf_example = tf.placeholder(tf.string, name='input_data')\n",
    "        feature_configs = {'x': tf.placeholder(shape=[], dtype=tf.float32), }\n",
    "    \n",
    "        tf_example = tf.parse_example(serialized=serialized_tf_example, \n",
    "                                  features=feature_configs)\n",
    "        \n",
    "        # assign placeholder name for graph??\n",
    "        x = tf.identity(input=tf_example['x'], name='x')\n",
    "        \n",
    "        # assign placeholder for output vairiable\n",
    "        y_ = tf.placeholder(dtype='float', shape=[None,1])\n",
    "        \n",
    "        # Linear regression model from estimator\n",
    "        net = build_model(feature_names=['age','income','years','bin','num','o'])\n",
    "        \n",
    "        # create saver \n",
    "        saver = tf.train.Saver()\n",
    "        \n",
    "        with tf.Session() as sess:\n",
    "            ckpt = tf.train.get_checkpoint_state(FLAGS.checkpoint_dir)\n",
    "            saver.restore(sess, ckpt.model_checkpoint_path)\n",
    "            export_path = os.path.join(\n",
    "            tf.compat.as_bytes(FLAGS.output_dir),\n",
    "            tf.compat.as_bytes(str(FLAGS.model_version)))\n",
    "            \n",
    "            if os.path.exists(export_path):\n",
    "                shutil.rmtree(export_path)\n",
    "            \n",
    "            # create model builder - builds graph ans session from export\n",
    "            builder = tf.saved_model.builder.SavedModelBuilder(export_path)\n",
    "            \n",
    "            \n",
    "        \n",
    "        "
   ]
  },
  {
   "cell_type": "code",
   "execution_count": null,
   "metadata": {},
   "outputs": [],
   "source": []
  }
 ],
 "metadata": {
  "kernelspec": {
   "display_name": "Python 3",
   "language": "python",
   "name": "python3"
  },
  "language_info": {
   "codemirror_mode": {
    "name": "ipython",
    "version": 3
   },
   "file_extension": ".py",
   "mimetype": "text/x-python",
   "name": "python",
   "nbconvert_exporter": "python",
   "pygments_lexer": "ipython3",
   "version": "3.6.6"
  }
 },
 "nbformat": 4,
 "nbformat_minor": 2
}
