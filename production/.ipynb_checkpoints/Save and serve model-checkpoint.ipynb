{
 "cells": [
  {
   "cell_type": "code",
   "execution_count": 2,
   "metadata": {},
   "outputs": [],
   "source": [
    "import os\n",
    "import sys\n",
    "import tensorflow as tf\n",
    "from tensorflow.python.saved_model import builder\n",
    "\n",
    "from tensorflow.python.saved_model import signature_constants\n",
    "from tensorflow.python.saved_model import signature_def_utils\n",
    "from tensorflow.python.saved_model import tag_constants\n",
    "from tensorflow.python.saved_model import utils\n",
    "from tensorflow.python.util import compat"
   ]
  },
  {
   "cell_type": "code",
   "execution_count": null,
   "metadata": {},
   "outputs": [],
   "source": [
    "import numpy as np\n",
    "np.random.seed(42)\n",
    "\n",
    "# simulate dataset\n",
    "age_ = np.random.normal(loc=25, scale=10, size=[1000, 1])\n",
    "years_ = np.random.gamma(shape=9.0, scale=2.0, size=[1000, 1])\n",
    "income_ = np.random.gamma(shape=3.0, scale=2.0, size=[1000, 1])\n",
    "trad_ = np.random.weibull(a=2, size=[1000, 1])\n",
    "num_friends = np.random.poisson(lam=3.5, size=[1000, 1])\n",
    "other_ = np.random.normal(loc=5, scale=2, size=[1000, 1])\n",
    "\n",
    "X = np.hstack((age_, years_, income_, \n",
    "     trad_, num_friends, other_))\n",
    "y = np.random.normal(loc=500, scale=35, size=[1000, 1])\n",
    "\n",
    "age_tf = tf.feature_column.numeric_column('age')\n",
    "income_tf = tf.feature_column.numeric_column('income')\n",
    "years_tf = tf.feature_column.numeric_column('years')\n",
    "trad_tf = tf.feature_column.numeric_column('trad')\n",
    "num_friends_tf = tf.feature_column.numeric_column('num_friends')\n",
    "other_tf = tf.feature_column.numeric_column('other')\n",
    "\n",
    "feature_columns = [age_tf, years_tf, income_tf, \n",
    "                   trad_tf, num_friends_tf, other_tf]"
   ]
  },
  {
   "cell_type": "code",
   "execution_count": 3,
   "metadata": {},
   "outputs": [],
   "source": [
    "tf.app.flags.DEFINE_integer('training_iteration', 20,\n",
    "                           'number of training iterations.')\n",
    "tf.app.flags.DEFINE_integer('model_version', 1, 'version number of the model.')\n",
    "tf.app.flags.DEFINE_string('work_dir', './tmp', 'Working directory.')\n",
    "\n",
    "FLAGS = tf.app.flags.FLAGS"
   ]
  },
  {
   "cell_type": "code",
   "execution_count": 6,
   "metadata": {},
   "outputs": [
    {
     "data": {
      "text/plain": [
       "['C:\\\\Users\\\\jg568_000\\\\Anaconda3\\\\envs\\\\tensorflow\\\\lib\\\\site-packages\\\\ipykernel_launcher.py',\n",
       " '-f',\n",
       " 'C:\\\\Users\\\\jg568_000\\\\AppData\\\\Roaming\\\\jupyter\\\\runtime\\\\kernel-5d1993f4-5183-4937-b8a1-dccce5edc329.json']"
      ]
     },
     "execution_count": 6,
     "metadata": {},
     "output_type": "execute_result"
    }
   ],
   "source": [
    "def main(_):\n",
    "    print('Training...')\n",
    "    \n",
    "    sess = tf.InteractiveSession()\n",
    "    serialized_tf_example = tf.placeholder(tf.string, name='tf_example')\n",
    "    feature_configs = {'x': tf.placeholder(shape=[None, 6], dtype=tf.float32), }\n",
    "    \n",
    "    tf_example = tf.parse_example(serialized=serialized_tf_example, \n",
    "                                  features=feature_configs)\n",
    "    \n",
    "    x = tf.identity(input=tf_example['x'], name='x')\n",
    "    y_ = tf.placeholder(dtype='float', shape=[None,1])\n",
    "    "
   ]
  }
 ],
 "metadata": {
  "kernelspec": {
   "display_name": "Python 3",
   "language": "python",
   "name": "python3"
  },
  "language_info": {
   "codemirror_mode": {
    "name": "ipython",
    "version": 3
   },
   "file_extension": ".py",
   "mimetype": "text/x-python",
   "name": "python",
   "nbconvert_exporter": "python",
   "pygments_lexer": "ipython3",
   "version": "3.6.6"
  }
 },
 "nbformat": 4,
 "nbformat_minor": 2
}
