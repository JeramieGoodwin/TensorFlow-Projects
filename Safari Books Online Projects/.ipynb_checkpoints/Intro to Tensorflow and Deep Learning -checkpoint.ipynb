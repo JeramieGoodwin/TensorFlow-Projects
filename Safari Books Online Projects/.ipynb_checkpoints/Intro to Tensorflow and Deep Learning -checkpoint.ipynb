{
 "cells": [
  {
   "cell_type": "code",
   "execution_count": 1,
   "metadata": {},
   "outputs": [
    {
     "name": "stderr",
     "output_type": "stream",
     "text": [
      "C:\\Users\\jg568_000\\Anaconda3\\envs\\tensorflow\\lib\\site-packages\\h5py\\__init__.py:36: FutureWarning: Conversion of the second argument of issubdtype from `float` to `np.floating` is deprecated. In future, it will be treated as `np.float64 == np.dtype(float).type`.\n",
      "  from ._conv import register_converters as _register_converters\n"
     ]
    }
   ],
   "source": [
    "import numpy as np\n",
    "import tensorflow as tf"
   ]
  },
  {
   "cell_type": "code",
   "execution_count": 2,
   "metadata": {},
   "outputs": [],
   "source": [
    "x1 = tf.placeholder(tf.float32)\n",
    "x2 = tf.placeholder(tf.float32)"
   ]
  },
  {
   "cell_type": "code",
   "execution_count": 3,
   "metadata": {},
   "outputs": [],
   "source": [
    "sum_op = tf.add(x1, x2)\n",
    "product_op = tf.multiply(x1, x2)"
   ]
  },
  {
   "cell_type": "code",
   "execution_count": 4,
   "metadata": {},
   "outputs": [],
   "source": [
    "with tf.Session() as session:\n",
    "    sum_result = session.run(sum_op, feed_dict={x1: 2.0, x2: 4.5})\n",
    "    prod_result = session.run(product_op, feed_dict={x1: 2.0, x2: 4.5})\n",
    "    "
   ]
  },
  {
   "cell_type": "code",
   "execution_count": 5,
   "metadata": {},
   "outputs": [
    {
     "data": {
      "text/plain": [
       "6.5"
      ]
     },
     "execution_count": 5,
     "metadata": {},
     "output_type": "execute_result"
    }
   ],
   "source": [
    "sum_result"
   ]
  },
  {
   "cell_type": "code",
   "execution_count": 6,
   "metadata": {},
   "outputs": [
    {
     "data": {
      "text/plain": [
       "9.0"
      ]
     },
     "execution_count": 6,
     "metadata": {},
     "output_type": "execute_result"
    }
   ],
   "source": [
    "prod_result"
   ]
  },
  {
   "cell_type": "code",
   "execution_count": null,
   "metadata": {},
   "outputs": [],
   "source": []
  },
  {
   "cell_type": "code",
   "execution_count": 7,
   "metadata": {},
   "outputs": [],
   "source": [
    "with tf.Session() as session:\n",
    "    sum_result = session.run(sum_op, feed_dict={x1:[2.0,2.0,2.0], x2: [1.5,1.0,2.0]})\n",
    "    prod_result = session.run(product_op, feed_dict={x1: [2.0, 4.0], x2:0.5})\n",
    "    "
   ]
  },
  {
   "cell_type": "code",
   "execution_count": 8,
   "metadata": {},
   "outputs": [
    {
     "data": {
      "text/plain": [
       "array([3.5, 3. , 4. ], dtype=float32)"
      ]
     },
     "execution_count": 8,
     "metadata": {},
     "output_type": "execute_result"
    }
   ],
   "source": [
    "sum_result"
   ]
  },
  {
   "cell_type": "code",
   "execution_count": 9,
   "metadata": {},
   "outputs": [
    {
     "data": {
      "text/plain": [
       "array([1., 2.], dtype=float32)"
      ]
     },
     "execution_count": 9,
     "metadata": {},
     "output_type": "execute_result"
    }
   ],
   "source": [
    "prod_result"
   ]
  },
  {
   "cell_type": "code",
   "execution_count": 10,
   "metadata": {},
   "outputs": [],
   "source": [
    "import matplotlib.pyplot as plt"
   ]
  },
  {
   "cell_type": "code",
   "execution_count": 11,
   "metadata": {},
   "outputs": [],
   "source": [
    "h = 28\n",
    "w = 28\n",
    "n_input = h*w\n",
    "n_dense = 128"
   ]
  },
  {
   "cell_type": "markdown",
   "metadata": {},
   "source": [
    "#### Define placeholder tensor "
   ]
  },
  {
   "cell_type": "code",
   "execution_count": 12,
   "metadata": {},
   "outputs": [],
   "source": [
    "x = tf.placeholder(tf.float32, [None, n_input])"
   ]
  },
  {
   "cell_type": "code",
   "execution_count": 13,
   "metadata": {},
   "outputs": [],
   "source": [
    "#### Define variables"
   ]
  },
  {
   "cell_type": "code",
   "execution_count": 14,
   "metadata": {},
   "outputs": [],
   "source": [
    "b = tf.Variable(tf.zeros([n_dense]))\n",
    "#W = tf.Variable(tf.random_normal([n_input, n_dense]))\n",
    "W = tf.get_variable('W', [n_input, n_dense], initializer= tf.contrib.layers.xavier_initializer())"
   ]
  },
  {
   "cell_type": "code",
   "execution_count": 15,
   "metadata": {},
   "outputs": [],
   "source": [
    "z = tf.add(tf.matmul(x,W), b)\n",
    "#a = tf.sigmoid(z)\n",
    "a = tf.tanh(z)"
   ]
  },
  {
   "cell_type": "code",
   "execution_count": 16,
   "metadata": {},
   "outputs": [],
   "source": [
    "#### Initialize variables"
   ]
  },
  {
   "cell_type": "code",
   "execution_count": 17,
   "metadata": {},
   "outputs": [],
   "source": [
    "initializer_op = tf.global_variables_initializer()"
   ]
  },
  {
   "cell_type": "code",
   "execution_count": 18,
   "metadata": {},
   "outputs": [],
   "source": [
    "#### Execute graph"
   ]
  },
  {
   "cell_type": "code",
   "execution_count": 19,
   "metadata": {},
   "outputs": [],
   "source": [
    "with tf.Session() as session:\n",
    "    session.run(initializer_op)\n",
    "    \n",
    "    layer_output = session.run(a, feed_dict = {x: np.random.random([1, n_input])})"
   ]
  },
  {
   "cell_type": "code",
   "execution_count": 20,
   "metadata": {},
   "outputs": [
    {
     "data": {
      "text/plain": [
       "array([[-0.8111588 ,  0.20190802, -0.44801033, -0.4628752 ,  0.39986497,\n",
       "         0.37048423, -0.4801086 ,  0.23987773,  0.79771274,  0.21399894,\n",
       "         0.05944119, -0.5496765 ,  0.5344774 , -0.715111  , -0.00162054,\n",
       "        -0.22681955,  0.01405959,  0.787523  , -0.22407345,  0.68148834,\n",
       "         0.4664789 , -0.68066126,  0.8171985 , -0.27190417,  0.18144396,\n",
       "        -0.5264693 , -0.48076975, -0.317173  , -0.7107601 ,  0.15367462,\n",
       "        -0.6674285 , -0.8437825 ,  0.36307484, -0.91631275,  0.6613382 ,\n",
       "        -0.34354872, -0.53990424, -0.82878286, -0.6053529 , -0.75719196,\n",
       "         0.07542817,  0.21626952,  0.54033786,  0.5480522 , -0.14145821,\n",
       "         0.58768505,  0.52137303, -0.07993159, -0.15779482, -0.6542703 ,\n",
       "        -0.66189855,  0.42070663,  0.23079632,  0.00375532,  0.74157417,\n",
       "        -0.26927677,  0.3616889 ,  0.33905113,  0.63233453,  0.52742326,\n",
       "         0.05160424,  0.7999332 , -0.06127178,  0.41178545,  0.287329  ,\n",
       "        -0.04011276,  0.43742263,  0.6794873 ,  0.9553969 , -0.21414463,\n",
       "         0.74399805, -0.29887825,  0.7537789 , -0.4627982 ,  0.8443069 ,\n",
       "         0.70399153, -0.07489539,  0.23947948,  0.15161829,  0.9392791 ,\n",
       "         0.527591  ,  0.3917841 ,  0.24018092, -0.24289271, -0.5621051 ,\n",
       "        -0.38602942,  0.77761614,  0.3403542 , -0.16367991, -0.1456068 ,\n",
       "        -0.8435728 ,  0.46916988,  0.3138484 , -0.9047777 , -0.1750253 ,\n",
       "         0.47569922, -0.28394386,  0.04755775, -0.51505363,  0.19639155,\n",
       "         0.77161396,  0.11651304,  0.7211589 ,  0.12594894,  0.794478  ,\n",
       "         0.0067271 ,  0.8474495 , -0.05798127,  0.75768846, -0.5618619 ,\n",
       "         0.25872293, -0.7664137 ,  0.7798643 ,  0.8720944 ,  0.09738155,\n",
       "        -0.2479975 , -0.27796316,  0.02004627,  0.32385802, -0.46967012,\n",
       "         0.30427843,  0.290344  ,  0.45115066, -0.6658733 ,  0.6491419 ,\n",
       "        -0.8566431 , -0.25737277, -0.00446847]], dtype=float32)"
      ]
     },
     "execution_count": 20,
     "metadata": {},
     "output_type": "execute_result"
    }
   ],
   "source": [
    "layer_output"
   ]
  },
  {
   "cell_type": "code",
   "execution_count": 21,
   "metadata": {},
   "outputs": [
    {
     "data": {
      "image/png": "[encoded data removed]",
      "text/plain": [
       "<Figure size 432x288 with 1 Axes>"
      ]
     },
     "metadata": {},
     "output_type": "display_data"
    }
   ],
   "source": [
    "_ = plt.hist(np.transpose(layer_output))"
   ]
  },
  {
   "cell_type": "code",
   "execution_count": null,
   "metadata": {},
   "outputs": [],
   "source": []
  }
 ],
 "metadata": {
  "kernelspec": {
   "display_name": "Python 3",
   "language": "python",
   "name": "python3"
  },
  "language_info": {
   "codemirror_mode": {
    "name": "ipython",
    "version": 3
   },
   "file_extension": ".py",
   "mimetype": "text/x-python",
   "name": "python",
   "nbconvert_exporter": "python",
   "pygments_lexer": "ipython3",
   "version": "3.5.5"
  }
 },
 "nbformat": 4,
 "nbformat_minor": 2
}
